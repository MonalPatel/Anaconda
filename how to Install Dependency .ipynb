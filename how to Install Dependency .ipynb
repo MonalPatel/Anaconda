{
 "cells": [
  {
   "cell_type": "markdown",
   "metadata": {},
   "source": [
    "# Dependency Install\n",
    "\n"
   ]
  },
  {
   "cell_type": "code",
   "execution_count": 1,
   "metadata": {},
   "outputs": [],
   "source": [
    "#Install dependencies for anaconda.\n",
    "#Step:1 Open Anaconda prompt\n",
    "#step:2 activate base or tensor flow using   --activate Tensorflow\n",
    "#step:3 Type give command for install dependency"
   ]
  },
  {
   "cell_type": "code",
   "execution_count": 2,
   "metadata": {},
   "outputs": [],
   "source": [
    "#To install this package with conda run:\n",
    "#conda install -c anaconda system \n",
    "#conda install -c jmcmurray os \n",
    "\n",
    "import sys, os, os.path as osp\n"
   ]
  },
  {
   "cell_type": "code",
   "execution_count": 3,
   "metadata": {},
   "outputs": [],
   "source": [
    "\n",
    "import errno"
   ]
  },
  {
   "cell_type": "code",
   "execution_count": 4,
   "metadata": {},
   "outputs": [],
   "source": [
    "#To install this package with conda run:\n",
    "#conda install -c anaconda argparse \n",
    "\n",
    "import argparse"
   ]
  },
  {
   "cell_type": "code",
   "execution_count": 5,
   "metadata": {},
   "outputs": [],
   "source": [
    "#To install this package with conda run:\n",
    "#conda install -c omnia subprocess32 \n",
    "\n",
    "from   subprocess import call"
   ]
  },
  {
   "cell_type": "code",
   "execution_count": 6,
   "metadata": {},
   "outputs": [],
   "source": [
    "#conda install -c conda-forge backports.tempfile \n",
    "#conda install -c conda-forge/label/gcc7 backports.tempfile \n",
    "#conda install -c conda-forge/label/cf201901 backports.tempfile \n",
    "\n",
    "import tempfile"
   ]
  },
  {
   "cell_type": "code",
   "execution_count": 7,
   "metadata": {},
   "outputs": [],
   "source": [
    "#conda install -c conda-forge pytest-shutil \n",
    "#conda install -c conda-forge/label/gcc7 pytest-shutil \n",
    "#conda install -c conda-forge/label/cf201901 pytest-shutil \n",
    "\n",
    "import shutil"
   ]
  },
  {
   "cell_type": "code",
   "execution_count": 8,
   "metadata": {},
   "outputs": [],
   "source": [
    "#conda install -c anaconda uuid \n",
    "\n",
    "import uuid"
   ]
  },
  {
   "cell_type": "code",
   "execution_count": 9,
   "metadata": {},
   "outputs": [],
   "source": [
    "#conda install -c anaconda pil \n",
    "    \n",
    "import PIL.Image as Image"
   ]
  },
  {
   "cell_type": "code",
   "execution_count": 10,
   "metadata": {},
   "outputs": [],
   "source": [
    "#conda install -c conda-forge addict \n",
    "#conda install -c conda-forge/label/cf201901 addict \n",
    "\n",
    "import addict"
   ]
  },
  {
   "cell_type": "code",
   "execution_count": 11,
   "metadata": {},
   "outputs": [],
   "source": [
    "#conda install -c anaconda numpy \n",
    "\n",
    "import numpy as np"
   ]
  },
  {
   "cell_type": "code",
   "execution_count": 12,
   "metadata": {},
   "outputs": [],
   "source": [
    "#conda install -c conda-forge opencv \n",
    "#conda install -c conda-forge/label/gcc7 opencv \n",
    "#conda install -c conda-forge/label/broken opencv \n",
    "#conda install -c conda-forge/label/cf201901 opencv\n",
    "\n",
    "import cv2"
   ]
  },
  {
   "cell_type": "code",
   "execution_count": 13,
   "metadata": {},
   "outputs": [],
   "source": [
    "#conda install -c conda-forge sk-video \n",
    "#conda install -c conda-forge/label/gcc7 sk-video \n",
    "#conda install -c conda-forge/label/cf201901 sk-video \n",
    "\n",
    "import skvideo.io"
   ]
  },
  {
   "cell_type": "code",
   "execution_count": 14,
   "metadata": {},
   "outputs": [],
   "source": [
    "#conda install -c conda-forge tqdm \n",
    "#conda install -c conda-forge/label/gcc7 tqdm \n",
    "#conda install -c conda-forge/label/cf201901 tqdm \n",
    "\n",
    "from   tqdm     import tqdm"
   ]
  },
  {
   "cell_type": "code",
   "execution_count": 15,
   "metadata": {},
   "outputs": [],
   "source": [
    "#conda install -c anaconda requests \n",
    "\n",
    "import requests"
   ]
  },
  {
   "cell_type": "code",
   "execution_count": 16,
   "metadata": {},
   "outputs": [],
   "source": [
    "#pip install openalpr\n",
    "\n",
    "from   openalpr import Alpr"
   ]
  }
 ],
 "metadata": {
  "kernelspec": {
   "display_name": "Python 3",
   "language": "python",
   "name": "python3"
  },
  "language_info": {
   "codemirror_mode": {
    "name": "ipython",
    "version": 3
   },
   "file_extension": ".py",
   "mimetype": "text/x-python",
   "name": "python",
   "nbconvert_exporter": "python",
   "pygments_lexer": "ipython3",
   "version": "3.6.8"
  }
 },
 "nbformat": 4,
 "nbformat_minor": 2
}
